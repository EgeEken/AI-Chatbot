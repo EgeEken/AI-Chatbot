{
 "cells": [
  {
   "cell_type": "markdown",
   "id": "8a274c7f",
   "metadata": {},
   "source": [
    "---"
   ]
  },
  {
   "cell_type": "markdown",
   "id": "4ea9c546",
   "metadata": {},
   "source": [
    "# Reproducing GPT 2 from Scratch\n",
    "### My follow along notebook of Andrej Karpathy's lecture [Let's Reproduce GPT-2 (124M)](https://www.youtube.com/watch?v=l8pRSuU81PU)"
   ]
  },
  {
   "cell_type": "markdown",
   "id": "2bb0125b",
   "metadata": {},
   "source": [
    "---"
   ]
  },
  {
   "cell_type": "markdown",
   "id": "8ac8ce10",
   "metadata": {},
   "source": [
    "## 1-) ARCHITECTURE\n",
    "---"
   ]
  },
  {
   "cell_type": "code",
   "execution_count": 8,
   "id": "022ce8db",
   "metadata": {},
   "outputs": [
    {
     "name": "stdout",
     "output_type": "stream",
     "text": [
      "CUDA available! :)\n",
      "Using device: cuda\n"
     ]
    }
   ],
   "source": [
    "from dataclasses import dataclass\n",
    "import torch\n",
    "import torch.nn as nn\n",
    "from torch.nn import functional as F\n",
    "\n",
    "import numpy as np\n",
    "import math\n",
    "import matplotlib.pyplot as plt\n",
    "import time\n",
    "\n",
    "import tiktoken\n",
    "\n",
    "cuda_available = torch.cuda.is_available()\n",
    "print(\"CUDA available! :)\" if cuda_available else \"CUDA not available! :(\")\n",
    "if cuda_available:\n",
    "    device = 'cuda'\n",
    "else:\n",
    "    device = 'cpu'\n",
    "print(f\"Using device: {device}\")"
   ]
  },
  {
   "cell_type": "code",
   "execution_count": 2,
   "id": "ee366afa",
   "metadata": {},
   "outputs": [],
   "source": [
    "@dataclass\n",
    "class GPTConfig:\n",
    "    block_size: int = 1024      # context length\n",
    "    vocab_size: int = 50257     # number of tokens in the vocabulary, \n",
    "                                # 50k BPE, 256 byte (char), 1 for <EOT>\n",
    "    n_layer: int = 12           # number of layers\n",
    "    n_head: int = 12            # number of heads\n",
    "    n_embd: int = 768           # embedding dimension"
   ]
  },
  {
   "cell_type": "code",
   "execution_count": 3,
   "id": "ea98df66",
   "metadata": {},
   "outputs": [],
   "source": [
    "class CausalSelfAttention(nn.Module):\n",
    "    def __init__(self, config):\n",
    "        super().__init__()\n",
    "        assert config.n_embd % config.n_head == 0 # ensure embedding dimension is divisible by number of heads \n",
    "        # key, query, value projections for all heads, but in a batch\n",
    "        self.c_attn = nn.Linear(config.n_embd, 3 * config.n_embd) # 3* for key, query, value\n",
    "        # output projection\n",
    "        self.c_proj = nn.Linear(config.n_embd, config.n_embd)\n",
    "        # KARPATHY ADDITION \"Idk if this is pytorch sanctioned but it works for me\" -Karpathy\n",
    "        self.c_proj.NANOGPT_SCALE_INIT = 1\n",
    "        # regularization\n",
    "        self.n_head = config.n_head\n",
    "        self.n_embd = config.n_embd\n",
    "        # Karpathy Comment: not really a 'bias', more of a mask, but following the OpenAI/HF naming\n",
    "        self.register_buffer(\"bias\", torch.tril(torch.ones(config.block_size, config.block_size))\n",
    "                                     .view(1, 1, config.block_size, config.block_size))\n",
    "        \n",
    "\n",
    "    def forward(self, x):\n",
    "        B, T, C = x.size() # batch size, sequence length, embedding dimensionality (n_embd)\n",
    "        # calculate query, key, values for all heads in batch and move head forward to be the batch dim\n",
    "        # nh is \"number of heads\"\n",
    "        # hs is \"head size\"\n",
    "        # C (number of channels) = nh * hs\n",
    "        # Example: In GPT2(124M), n_head = 12, hs = 64 so C = 768\n",
    "        \n",
    "        qkv = self.c_attn(x)\n",
    "        q, k, v = qkv.split(self.n_embd, dim=2) # split into query, key, value along channel dim\n",
    "        q = q.view(B, T, self.n_head, C // self.n_head).transpose(1, 2) # (B, nh, T, hs)\n",
    "        k = k.view(B, T, self.n_head, C // self.n_head).transpose(1, 2) # (B, nh, T, hs)\n",
    "        v = v.view(B, T, self.n_head, C // self.n_head).transpose(1, 2) # (B, nh, T, hs)\n",
    "        \n",
    "        # attention (materializes the large (T, T) matrix for all the queries and keys)\n",
    "        att = (q @ k.transpose(-2, -1)) * (1.0 / math.sqrt(k.size(-1)))\n",
    "        att = att.masked_fill(self.bias[:, :, :T, :T] == 0, float('-inf'))\n",
    "        att = F.softmax(att, dim=-1)\n",
    "\n",
    "        y = att @ v # (B, nh, T, T) x (B, nh, T, hs) -> (B, nh, T, hs)\n",
    "        y = y.transpose(1, 2).contiguous().view(B, T, C) # re-assemble all head outputs side by side\n",
    "        # output projection\n",
    "        y = self.c_proj(y)\n",
    "        return y\n",
    "    \n",
    "    "
   ]
  },
  {
   "cell_type": "code",
   "execution_count": 4,
   "id": "90b863cd",
   "metadata": {},
   "outputs": [],
   "source": [
    "class MLP(nn.Module):\n",
    "    def __init__(self, config):\n",
    "        super().__init__()\n",
    "        self.c_fc = nn.Linear(config.n_embd, 4 * config.n_embd)         # 4* factor is used to increase the capacity of\n",
    "                                                                        # the MLP without increasing the embedding size\n",
    "        \n",
    "        self.gelu = nn.GELU()                                           # (approximate=\"tanh\"), historically used in GPT-2 due to\n",
    "                                                                        # performance reasons at the time, no longer necessary\n",
    "        \n",
    "        self.c_proj = nn.Linear(4 * config.n_embd, config.n_embd)       # project back to original embedding size\n",
    "        self.c_proj.NANOGPT_SCALE_INIT = 1\n",
    "\n",
    "    def forward(self, x):\n",
    "        x = self.c_fc(x)\n",
    "        x = self.gelu(x)\n",
    "        x = self.c_proj(x)\n",
    "        return x\n",
    "        "
   ]
  },
  {
   "cell_type": "code",
   "execution_count": 5,
   "id": "0fcb69d4",
   "metadata": {},
   "outputs": [],
   "source": [
    "class Block(nn.Module):                             # an individual Transformer block (made of add & norm, followed by feed-forward)\n",
    "    def __init__(self, config):\n",
    "        super().__init__()\n",
    "        self.ln_1 = nn.LayerNorm(config.n_embd)     # layer norm 1 (normalizes across the feature dimension)\n",
    "        self.attn = CausalSelfAttention(config)     # multi headed attention layer\n",
    "        self.ln_2 = nn.LayerNorm(config.n_embd)     # layer norm 2 (normalizes across the feature dimension)\n",
    "        self.mlp = MLP(config)                      # feed-forward multi-layer perceptron (MLP) layer\n",
    "\n",
    "    def forward(self, x):\n",
    "        x = x + self.attn(self.ln_1(x))             # residual connection around the self-attention layer\n",
    "        x = x + self.mlp(self.ln_2(x))              # residual connection around the feed-forward layer\n",
    "        return x\n",
    "    \n",
    "\n",
    "    "
   ]
  },
  {
   "cell_type": "code",
   "execution_count": 6,
   "id": "39de0abf",
   "metadata": {},
   "outputs": [],
   "source": [
    "class GPT(nn.Module):\n",
    "    def __init__(self, config):\n",
    "        super().__init__()\n",
    "        self.config = config\n",
    "\n",
    "        self.transformer = nn.ModuleDict(                                           # transformer architecture\n",
    "            dict(                                      \n",
    "                wte = nn.Embedding(config.vocab_size, config.n_embd),                   # word token embeddings\n",
    "                wpe = nn.Embedding(config.block_size, config.n_embd),                   # word position embeddings\n",
    "                h = nn.ModuleList([Block(config) for _ in range(config.n_layer)]),      # hidden layers\n",
    "                ln_f = nn.LayerNorm(config.n_embd),                                     # final layer norm (layernorm_final)\n",
    "            )\n",
    "        )\n",
    "\n",
    "        self.lm_head = nn.Linear(config.n_embd, config.vocab_size, bias=False)      # language model head, this is the final layer\n",
    "                                                                                    # that outputs logits (probabilities) for each\n",
    "                                                                                    # token in the vocabulary\n",
    "\n",
    "        # weight sharing scheme\n",
    "        self.transformer.wte.weight = self.lm_head.weight\n",
    "\n",
    "        # init params\n",
    "        self.apply(self._init_weights)\n",
    "\n",
    "    def _init_weights(self, module):\n",
    "        if isinstance(module, nn.Linear):\n",
    "            std = 0.02\n",
    "            if hasattr(module, \"NANOGPT_SCALE_INIT\"):\n",
    "                std = (2 * self.config.n_layer) ** -0.5\n",
    "            torch.nn.init.normal_(module.weight, mean=0.0, std=std)\n",
    "            if module.bias is not None:\n",
    "                torch.nn.init.zeros_(module.bias)\n",
    "        elif isinstance(module, nn.Embedding):\n",
    "            torch.nn.init.normal_(module.weight, mean=0.0, std=0.02)\n",
    "\n",
    "    def forward(self, idx, targets=None):\n",
    "        # idx is of shape (B, T)\n",
    "        B, T = idx.size() # batch dimension, time dimension\n",
    "        assert T <= self.config.block_size, f\"Cannot forward sequence of length {T}, block size is only {self.config.block_size}\"\n",
    "        # forward the token and posisition embeddings\n",
    "        pos = torch.arange(0, T, dtype=torch.long, device=idx.device) # shape (T)\n",
    "        pos_emb = self.transformer.wpe(pos) # position embeddings of shape (T, n_embd)\n",
    "        tok_emb = self.transformer.wte(idx) # token embeddings of shape (B, T, n_embd)\n",
    "        x = tok_emb + pos_emb\n",
    "        # forward the blocks of the transformer\n",
    "        for block in self.transformer.h:\n",
    "            x = block(x)\n",
    "        # forward the final layernorm and the classifier\n",
    "        x = self.transformer.ln_f(x)\n",
    "        logits = self.lm_head(x) # (B, T, vocab_size)\n",
    "        loss = None\n",
    "        if targets is not None:\n",
    "            loss = F.cross_entropy(logits.view(-1, logits.size(-1)), targets.view(-1))\n",
    "        return logits, loss\n",
    "\n",
    "    @classmethod\n",
    "    def from_pretrained(cls, model_type):\n",
    "        \"\"\"CONSTRUCTOR\n",
    "        Loads pretrained GPT-2 model weights from huggingface\"\"\"\n",
    "        assert model_type in {'gpt2', 'gpt2-medium', 'gpt2-large', 'gpt2-xl'}\n",
    "        from transformers import GPT2LMHeadModel\n",
    "        print(\"loading weights from pretrained gpt: %s\" % model_type)\n",
    "\n",
    "        # n_layer, n_head and n_embd are determined from model_type\n",
    "        config_args = {\n",
    "            'gpt2':         dict(n_layer=12, n_head=12, n_embd=768),  # 124M params\n",
    "            'gpt2-medium':  dict(n_layer=24, n_head=16, n_embd=1024), # 350M params\n",
    "            'gpt2-large':   dict(n_layer=36, n_head=20, n_embd=1280), # 774M params\n",
    "            'gpt2-xl':      dict(n_layer=48, n_head=25, n_embd=1600), # 1558M params\n",
    "        }[model_type]\n",
    "        config_args['vocab_size'] = 50257 # always 50257 for GPT model checkpoints\n",
    "        config_args['block_size'] = 1024 # always 1024 for GPT model checkpoints\n",
    "        # create a from-scratch initialized minGPT model\n",
    "        config = GPTConfig(**config_args)\n",
    "        model = GPT(config)\n",
    "        sd = model.state_dict()\n",
    "        sd_keys = sd.keys()\n",
    "        sd_keys = [k for k in sd_keys if not k.endswith('.attn.bias')] # discard this mask / buffer, not a param\n",
    "\n",
    "        # init a huggingface/transformers model\n",
    "        model_hf = GPT2LMHeadModel.from_pretrained(model_type)\n",
    "        sd_hf = model_hf.state_dict()\n",
    "\n",
    "        # copy while ensuring all of the parameters are aligned and match in names and shapes\n",
    "        sd_keys_hf = sd_hf.keys()\n",
    "        sd_keys_hf = [k for k in sd_keys_hf if not k.endswith('.attn.masked_bias')] # ignore these, just a buffer\n",
    "        sd_keys_hf = [k for k in sd_keys_hf if not k.endswith('.attn.bias')] # same, just the mask (buffer)\n",
    "        transposed = ['attn.c_attn.weight', 'attn.c_proj.weight', 'mlp.c_fc.weight', 'mlp.c_proj.weight']\n",
    "        # basically the openai checkpoints use a \"Conv1D\" module, but we only want to use a vanilla Linear\n",
    "        # this means that we have to transpose these weights when we import them\n",
    "        assert len(sd_keys_hf) == len(sd_keys), f\"mismatched keys: {len(sd_keys_hf)} != {len(sd_keys)}\"\n",
    "        for k in sd_keys_hf:\n",
    "            if any(k.endswith(w) for w in transposed):\n",
    "                # special treatment for the Conv1D weights we need to transpose\n",
    "                assert sd_hf[k].shape[::-1] == sd[k].shape\n",
    "                with torch.no_grad():\n",
    "                    sd[k].copy_(sd_hf[k].t())\n",
    "            else:\n",
    "                # vanilla copy over the other parameters\n",
    "                assert sd_hf[k].shape == sd[k].shape\n",
    "                with torch.no_grad():\n",
    "                    sd[k].copy_(sd_hf[k])\n",
    "\n",
    "        return model\n",
    "\n",
    "    def configure_optimizers(self, weight_decay, learning_rate, device_type):\n",
    "        # start with all of the candidate parameters (that require grad)\n",
    "        param_dict = {pn: p for pn, p in self.named_parameters()}\n",
    "        param_dict = {pn: p for pn, p in param_dict.items() if p.requires_grad}\n",
    "        # create optim groups. Any parameters that is 2D will be weight decayed, otherwise no.\n",
    "        # i.e. all weight tensors in matmuls + embeddings decay, all biases and layernorms don't.\n",
    "        decay_params = [p for n, p in param_dict.items() if p.dim() >= 2]\n",
    "        nodecay_params = [p for n, p in param_dict.items() if p.dim() < 2]\n",
    "        optim_groups = [\n",
    "            {'params': decay_params, 'weight_decay': weight_decay},\n",
    "            {'params': nodecay_params, 'weight_decay': 0.0}\n",
    "        ]\n",
    "        num_decay_params = sum(p.numel() for p in decay_params)\n",
    "        num_nodecay_params = sum(p.numel() for p in nodecay_params)\n",
    "        if master_process:\n",
    "            print(f\"num decayed parameter tensors: {len(decay_params)}, with {num_decay_params:,} parameters\")\n",
    "            print(f\"num non-decayed parameter tensors: {len(nodecay_params)}, with {num_nodecay_params:,} parameters\")\n",
    "        # Create AdamW optimizer and use the fused version if it is available\n",
    "        fused_available = 'fused' in inspect.signature(torch.optim.AdamW).parameters\n",
    "        use_fused = fused_available and device_type == \"cuda\"\n",
    "        if master_process:\n",
    "            print(f\"using fused AdamW: {use_fused}\")\n",
    "        optimizer = torch.optim.AdamW(optim_groups, lr=learning_rate, betas=(0.9, 0.95), eps=1e-8, fused=use_fused)\n",
    "        return optimizer\n",
    "\n",
    "                                                                                    "
   ]
  },
  {
   "cell_type": "code",
   "execution_count": 7,
   "id": "f9b1064d",
   "metadata": {},
   "outputs": [
    {
     "name": "stderr",
     "output_type": "stream",
     "text": [
      "C:\\Users\\EGE\\AppData\\Local\\Packages\\PythonSoftwareFoundation.Python.3.10_qbz5n2kfra8p0\\LocalCache\\local-packages\\Python310\\site-packages\\tqdm\\auto.py:21: TqdmWarning: IProgress not found. Please update jupyter and ipywidgets. See https://ipywidgets.readthedocs.io/en/stable/user_install.html\n",
      "  from .autonotebook import tqdm as notebook_tqdm\n"
     ]
    },
    {
     "name": "stdout",
     "output_type": "stream",
     "text": [
      "loading weights from pretrained gpt: gpt2\n",
      "Model loaded in 2.53 seconds\n"
     ]
    },
    {
     "data": {
      "text/plain": [
       "GPT(\n",
       "  (transformer): ModuleDict(\n",
       "    (wte): Embedding(50257, 768)\n",
       "    (wpe): Embedding(1024, 768)\n",
       "    (h): ModuleList(\n",
       "      (0-11): 12 x Block(\n",
       "        (ln_1): LayerNorm((768,), eps=1e-05, elementwise_affine=True)\n",
       "        (attn): CausalSelfAttention(\n",
       "          (c_attn): Linear(in_features=768, out_features=2304, bias=True)\n",
       "          (c_proj): Linear(in_features=768, out_features=768, bias=True)\n",
       "        )\n",
       "        (ln_2): LayerNorm((768,), eps=1e-05, elementwise_affine=True)\n",
       "        (mlp): MLP(\n",
       "          (c_fc): Linear(in_features=768, out_features=3072, bias=True)\n",
       "          (gelu): GELU(approximate='none')\n",
       "          (c_proj): Linear(in_features=3072, out_features=768, bias=True)\n",
       "        )\n",
       "      )\n",
       "    )\n",
       "    (ln_f): LayerNorm((768,), eps=1e-05, elementwise_affine=True)\n",
       "  )\n",
       "  (lm_head): Linear(in_features=768, out_features=50257, bias=False)\n",
       ")"
      ]
     },
     "execution_count": 7,
     "metadata": {},
     "output_type": "execute_result"
    }
   ],
   "source": [
    "start = time.time()\n",
    "model = GPT.from_pretrained('gpt2')\n",
    "print(f\"Model loaded in {time.time() - start:.2f} seconds\")\n",
    "model.eval()\n",
    "model.to(\"cuda\")"
   ]
  },
  {
   "cell_type": "code",
   "execution_count": 8,
   "id": "050df202",
   "metadata": {},
   "outputs": [
    {
     "data": {
      "text/plain": [
       "(tensor([[[-37.6848, -38.1987, -40.4196,  ..., -47.3129, -46.7274, -36.7948]]],\n",
       "        device='cuda:0', grad_fn=<UnsafeViewBackward0>),\n",
       " None)"
      ]
     },
     "execution_count": 8,
     "metadata": {},
     "output_type": "execute_result"
    }
   ],
   "source": [
    "model.forward(torch.zeros((1, 1), dtype=torch.long).to(\"cuda\")) # forward pass test"
   ]
  },
  {
   "cell_type": "markdown",
   "id": "8a865878",
   "metadata": {},
   "source": [
    "---"
   ]
  },
  {
   "cell_type": "markdown",
   "id": "c2d14ada",
   "metadata": {},
   "source": [
    "## 2-) ENCODINGS, TESTING GPT2\n",
    "---"
   ]
  },
  {
   "cell_type": "code",
   "execution_count": 10,
   "id": "69a946dd",
   "metadata": {},
   "outputs": [
    {
     "name": "stdout",
     "output_type": "stream",
     "text": [
      "Tarık Ege Eken is a \n",
      "\n",
      "Token 0: 47079 'Tar'\n",
      "Token 1: 30102 'ı'\n",
      "Token 2:    74 'k'\n",
      "Token 3:   412 ' E'\n",
      "Token 4:   469 'ge'\n",
      "Token 5:   412 ' E'\n",
      "Token 6:  3464 'ken'\n",
      "Token 7:   318 ' is'\n",
      "Token 8:   257 ' a'\n"
     ]
    }
   ],
   "source": [
    "num_return_sequences = 5\n",
    "max_length = 20\n",
    "\n",
    "enc = tiktoken.get_encoding(\"gpt2\")\n",
    "sample_text = \"Tarık Ege Eken is a\"\n",
    "tokens = enc.encode(sample_text)\n",
    "tokens = torch.tensor(tokens, dtype=torch.long) # (T, )\n",
    "tokens = tokens.unsqueeze(0).repeat(num_return_sequences, 1) # (B, T)\n",
    "x = tokens.to(\"cuda\")\n",
    "\n",
    "print(enc.decode(tokens[0].tolist()), \"\\n\")\n",
    "for i in range(len(tokens[0])):\n",
    "    print(f\"Token {i}: {tokens[0, i].item():5d} '{enc.decode([tokens[0, i].item()])}'\")"
   ]
  },
  {
   "cell_type": "code",
   "execution_count": 11,
   "id": "131c5f29",
   "metadata": {},
   "outputs": [
    {
     "name": "stdout",
     "output_type": "stream",
     "text": [
      "\n",
      "----------------------------------------------------------------------------------------------------\n",
      "Tarık Ege Eken is a researcher and professor of Turkish history at Duman University.\n",
      "----------------------------------------------------------------------------------------------------\n",
      "\n",
      "\n",
      "----------------------------------------------------------------------------------------------------\n",
      "Tarık Ege Eken is a PhD student in Islamic Education at the University of Gothen\n",
      "----------------------------------------------------------------------------------------------------\n",
      "\n",
      "\n",
      "----------------------------------------------------------------------------------------------------\n",
      "Tarık Ege Eken is a psychologist-activist and a blogger-activist who\n",
      "----------------------------------------------------------------------------------------------------\n",
      "\n",
      "\n",
      "----------------------------------------------------------------------------------------------------\n",
      "Tarık Ege Eken is a staff fellow at the Geocities Institute at Ankara University\n",
      "----------------------------------------------------------------------------------------------------\n",
      "\n",
      "\n",
      "----------------------------------------------------------------------------------------------------\n",
      "Tarık Ege Eken is a pseudonym: the man who discovered some of history's greatest\n",
      "----------------------------------------------------------------------------------------------------\n",
      "\n"
     ]
    }
   ],
   "source": [
    "torch.manual_seed(2003)\n",
    "torch.cuda.manual_seed(2003)\n",
    "\n",
    "while x.size(1) < max_length:\n",
    "    with torch.no_grad():\n",
    "        logits, loss = model(x) # (B, T, vocab_size)\n",
    "        # take the logits from the last time step\n",
    "        logits = logits[:, -1, :] # becomes (B, vocab_size)\n",
    "        # get the probabilities\n",
    "        probs = F.softmax(logits, dim=-1) # (B, vocab_size)\n",
    "        # do top-k sampling of 50 (HF pipeline default)\n",
    "        topk_probs, topk_indices = torch.topk(probs, 50, dim=-1) # (B, 50)\n",
    "        # select a token from the top-k probabilities\n",
    "        ix = torch.multinomial(topk_probs, 1) # (B, 1)\n",
    "        # gather the corresponding indices\n",
    "        xcol = torch.gather(topk_indices, -1, ix) # (B, 1)\n",
    "        # append to the sequence\n",
    "        x = torch.cat((x, xcol), dim=1) # (B, T+1)\n",
    "\n",
    "for i in range(num_return_sequences):\n",
    "    print()\n",
    "    print(\"-\" * 100)\n",
    "    print(enc.decode(x[i].tolist()))\n",
    "    print(\"-\" * 100)\n",
    "    print()"
   ]
  },
  {
   "cell_type": "markdown",
   "id": "cf740fce",
   "metadata": {},
   "source": [
    "---"
   ]
  },
  {
   "cell_type": "markdown",
   "id": "81d25d1b",
   "metadata": {},
   "source": [
    "## 3-) TRAINING DATA\n",
    "---"
   ]
  },
  {
   "cell_type": "code",
   "execution_count": 9,
   "id": "60ab40e5",
   "metadata": {},
   "outputs": [
    {
     "name": "stdout",
     "output_type": "stream",
     "text": [
      "------------------------------------------------------------\n",
      "Length of tiny_shakespeare dataset in characters: 1,115,394\n",
      "------------------------------------------------------------\n",
      "Sample from tiny_shakespeare dataset:\n",
      " First Citizen:\n",
      "Before we proceed any further, hear me speak.\n",
      "\n",
      "All:\n",
      "Speak, speak.\n",
      "\n",
      "First Citizen:\n",
      "You are all resolved rather to die than to famish?\n",
      "\n",
      "All:\n",
      "Resolved. resolved.\n",
      "\n",
      "First Citizen:\n",
      "First, you\n",
      "\n",
      "------------------------------------------------------------\n",
      "Length of llama3_data dataset in characters: 321,488\n",
      "------------------------------------------------------------\n",
      "Sample from llama3_data dataset:\n",
      " i:A is an indefinite article.\n",
      "o:YES, it indicates that a noun or pronoun is singular.\n",
      "i:What does \"a\" mean in English?\n",
      "o:\"A\" is used to indicate one of something, especially when the thing being refer\n",
      "\n",
      "------------------------------------------------------------\n",
      "Length of discord_messages dataset in characters: 4,048,063\n",
      "------------------------------------------------------------\n",
      "Sample from discord_messages dataset:\n",
      " the superior union wins\n",
      "<@319143618504032267> holy xi\n",
      "happy patriots day <@302851966407671819>\n",
      "but honestly nahhh idk i think in the avengers movies the core cast is like all the \"main characters\"\n",
      "so \n"
     ]
    }
   ],
   "source": [
    "tiny_shakespeare = open('tiny_shakespeare.txt', 'r', encoding='utf-8').read()\n",
    "llama3_data = open('llama3_data_cleaned.txt', 'r', encoding='utf-8').read()\n",
    "discord_messages = open('discord_messages.txt', 'r', encoding='utf-8').read()\n",
    "\n",
    "print(\"-\" * 60)\n",
    "print(f\"Length of tiny_shakespeare dataset in characters: {len(tiny_shakespeare):,}\")\n",
    "print(\"-\" * 60)\n",
    "print(f\"Sample from tiny_shakespeare dataset:\\n {tiny_shakespeare[:200]}\")\n",
    "print()\n",
    "print(\"-\" * 60)\n",
    "print(f\"Length of llama3_data dataset in characters: {len(llama3_data):,}\")\n",
    "print(\"-\" * 60)\n",
    "print(f\"Sample from llama3_data dataset:\\n {llama3_data[:200]}\")\n",
    "print()\n",
    "print(\"-\" * 60)\n",
    "print(f\"Length of discord_messages dataset in characters: {len(discord_messages):,}\")\n",
    "print(\"-\" * 60)\n",
    "print(f\"Sample from discord_messages dataset:\\n {discord_messages[:200]}\")\n"
   ]
  },
  {
   "cell_type": "markdown",
   "id": "e4bbb249",
   "metadata": {},
   "source": [
    "### Getting Training Data"
   ]
  },
  {
   "cell_type": "code",
   "execution_count": 13,
   "id": "652c4db0",
   "metadata": {},
   "outputs": [],
   "source": [
    "B, T = 4, 32 # batch size, sequence length\n",
    "selection = tiny_shakespeare[:1000]\n",
    "\n",
    "tokens = enc.encode(selection)\n",
    "buf = torch.tensor(tokens[:B*T + 1])\n",
    "buf = buf.to(device)\n",
    "x = buf[:-1].view(B, T).to(device)\n",
    "y = buf[1:].view(B, T).to(device)"
   ]
  },
  {
   "cell_type": "code",
   "execution_count": null,
   "id": "b47259c4",
   "metadata": {},
   "outputs": [
    {
     "name": "stdout",
     "output_type": "stream",
     "text": [
      "Loss: 5.1072\n"
     ]
    }
   ],
   "source": [
    "logits, loss = model(x, y)\n",
    "print(f\"Loss: {float(loss):.4f}\")"
   ]
  },
  {
   "cell_type": "code",
   "execution_count": 14,
   "id": "0b504a41",
   "metadata": {},
   "outputs": [
    {
     "name": "stdout",
     "output_type": "stream",
     "text": [
      "Loss: 10.8986\n"
     ]
    }
   ],
   "source": [
    "model = GPT(GPTConfig())\n",
    "model.to(device)\n",
    "logits, loss = model(x, y)\n",
    "print(f\"Loss: {float(loss):.4f}\")"
   ]
  },
  {
   "cell_type": "markdown",
   "id": "ec1d7540",
   "metadata": {},
   "source": [
    "### \"Probability of a random token being correct is $\\frac{1}{\\text{vocab size}}$\n",
    "### The cross entropy loss is calculated as $-\\ln(\\text{probability of correct response})$.\n",
    "### So the expected loss for a randomly initialized model's prediction is: $-\\ln\\left(\\frac{1}{\\text{vocab size}}\\right) = \\ln(50257) \\approx 10.8$\n",
    "\n",
    "### Which is, in this case, $\\ln(50257) \\approx 10.8$, pretty close to what we got above."
   ]
  },
  {
   "cell_type": "markdown",
   "id": "bf0a0474",
   "metadata": {},
   "source": [
    "---"
   ]
  },
  {
   "cell_type": "markdown",
   "id": "c089facd",
   "metadata": {},
   "source": [
    "# 4-) OPTIMIZATION LOOP\n",
    "---"
   ]
  },
  {
   "cell_type": "code",
   "execution_count": 209,
   "id": "5fb8ff3f",
   "metadata": {},
   "outputs": [],
   "source": [
    "model = GPT(GPTConfig())\n",
    "model.to(device)\n",
    "optimizer = torch.optim.AdamW(model.parameters(), lr=3e-4)"
   ]
  },
  {
   "cell_type": "markdown",
   "id": "d0f471ff",
   "metadata": {},
   "source": [
    "### \"AdamW is like a bugfix of Adam\"\n",
    "### - Andrej Karpathy"
   ]
  },
  {
   "cell_type": "code",
   "execution_count": 210,
   "id": "2518894c",
   "metadata": {},
   "outputs": [
    {
     "name": "stdout",
     "output_type": "stream",
     "text": [
      "Initial loss: 10.8112\n",
      "Iteration 10/50\t| Loss: 3.8493 \t| Time: 22.63 seconds\n",
      "Iteration 20/50\t| Loss: 0.2634 \t| Time: 44.02 seconds\n",
      "Iteration 30/50\t| Loss: 0.0214 \t| Time: 69.74 seconds\n",
      "Iteration 40/50\t| Loss: 0.0080 \t| Time: 91.11 seconds\n",
      "Iteration 50/50\t| Loss: 0.0047 \t| Time: 112.51 seconds\n",
      "------------------------------------------------------------\n",
      "Iteration 50\t| Loss: 0.0047 \t| Time: 112.51 seconds\n"
     ]
    },
    {
     "data": {
      "image/png": "[encoded data removed]",
      "text/plain": [
       "<Figure size 640x480 with 1 Axes>"
      ]
     },
     "metadata": {},
     "output_type": "display_data"
    }
   ],
   "source": [
    "iteration_count = 50\n",
    "start = time.time()\n",
    "\n",
    "logits, loss = model(x, y)\n",
    "print(f\"Initial loss: {loss.item():.4f}\")\n",
    "losses = [loss.item()]\n",
    "\n",
    "for i in range(1, iteration_count+1):\n",
    "    optimizer.zero_grad()\n",
    "    logits, loss = model(x, y)\n",
    "    loss.backward()\n",
    "    optimizer.step()\n",
    "    losses.append(loss.item())\n",
    "    if (iteration_count < 10) or (i % 10 == 0):\n",
    "        print(f\"Iteration {i}/{iteration_count}\\t| Loss: {loss.item():.4f} \\t| Time: {time.time() - start:.2f} seconds\")\n",
    "\n",
    "print(\"-\" * 60)\n",
    "print(f\"Iteration {iteration_count}\\t| Loss: {loss.item():.4f} \\t| Time: {time.time() - start:.2f} seconds\")\n",
    "\n",
    "plt.plot(losses)\n",
    "plt.xlabel(\"Iteration\")\n",
    "plt.ylabel(\"Loss\")\n",
    "plt.title(\"Training Loss\")\n",
    "plt.show()"
   ]
  },
  {
   "cell_type": "code",
   "execution_count": 211,
   "id": "65448b13",
   "metadata": {},
   "outputs": [
    {
     "name": "stdout",
     "output_type": "stream",
     "text": [
      " exhaustion, we'll have to at our own price.\n",
      "Is't euphem verdict?\n",
      "\n",
      "All:\n",
      "No more talking on't; let it be done\n",
      "No more let it be done done"
     ]
    }
   ],
   "source": [
    "x = torch.zeros((1, 1), dtype=torch.long).to(device)\n",
    "for _ in range(40):\n",
    "    logits, loss = model(x)\n",
    "    logits = logits[:, -1, :] # (B, vocab_size)\n",
    "    probs = F.softmax(logits, dim=-1) # (B, vocab_size)\n",
    "    x_next = torch.multinomial(probs, num_samples=1) # (B, 1)\n",
    "    x = torch.cat((x, x_next), dim=1) # (B, T+1)\n",
    "    print(enc.decode(x_next[0].tolist()), end=\"\")"
   ]
  },
  {
   "cell_type": "markdown",
   "id": "6ba9accc",
   "metadata": {},
   "source": [
    "# 5-) DATA LOADER\n",
    "---"
   ]
  },
  {
   "cell_type": "code",
   "execution_count": 10,
   "id": "73938b0e",
   "metadata": {},
   "outputs": [],
   "source": [
    "class DataLoaderLite:\n",
    "    def __init__(self, B, T, text):\n",
    "        self.B = B\n",
    "        self.T = T\n",
    "\n",
    "        enc = tiktoken.get_encoding(\"gpt2\")\n",
    "        tokens = enc.encode(text)\n",
    "        self.tokens = torch.tensor(tokens)\n",
    "        print(f\"Loaded {len(self.tokens)} tokens\")\n",
    "        print(f\"1 epoch = {len(self.tokens) // (B * T)} batches\")\n",
    "\n",
    "        # state\n",
    "        self.current_position = 0\n",
    "\n",
    "    def next_batch(self):\n",
    "        B, T = self.B, self.T\n",
    "        buf = self.tokens[self.current_position : self.current_position + B * T + 1]\n",
    "        x = buf[:-1].view(B, T)\n",
    "        y = buf[1:].view(B, T)\n",
    "        # advance the position in the tensor\n",
    "        self.current_position += B * T\n",
    "        # if loading the next batch would be out of bounds, reset\n",
    "        if self.current_position + (B * T + 1) > len(self.tokens):\n",
    "            self.current_position = 0\n",
    "        return x, y"
   ]
  },
  {
   "cell_type": "code",
   "execution_count": 16,
   "id": "20b1532e",
   "metadata": {},
   "outputs": [
    {
     "name": "stdout",
     "output_type": "stream",
     "text": [
      "Loaded 73652 tokens\n",
      "1 epoch = 575 batches\n"
     ]
    }
   ],
   "source": [
    "train_loader = DataLoaderLite(B=4, T=32, text=llama3_data)\n",
    "\n",
    "model = GPT(GPTConfig())\n",
    "model.to(device)\n",
    "\n",
    "optimizer = torch.optim.AdamW(model.parameters(), lr=3e-4)"
   ]
  },
  {
   "cell_type": "code",
   "execution_count": 17,
   "id": "6bdad387",
   "metadata": {},
   "outputs": [
    {
     "name": "stdout",
     "output_type": "stream",
     "text": [
      "Initial loss: 10.7952\n",
      "Iteration 10/300\t| Loss: 8.7902 \t| Time: 0.74 seconds\n",
      "Iteration 20/300\t| Loss: 6.9466 \t| Time: 1.33 seconds\n",
      "Iteration 30/300\t| Loss: 6.9275 \t| Time: 1.93 seconds\n",
      "Iteration 40/300\t| Loss: 7.3531 \t| Time: 2.48 seconds\n",
      "Iteration 50/300\t| Loss: 6.3480 \t| Time: 3.02 seconds\n",
      "Iteration 60/300\t| Loss: 6.9148 \t| Time: 3.57 seconds\n",
      "Iteration 70/300\t| Loss: 6.7049 \t| Time: 4.11 seconds\n",
      "Iteration 80/300\t| Loss: 6.8776 \t| Time: 4.65 seconds\n",
      "Iteration 90/300\t| Loss: 6.3279 \t| Time: 5.19 seconds\n",
      "Iteration 100/300\t| Loss: 6.1794 \t| Time: 5.72 seconds\n",
      "Iteration 110/300\t| Loss: 7.1161 \t| Time: 6.25 seconds\n",
      "Iteration 120/300\t| Loss: 6.4601 \t| Time: 6.78 seconds\n",
      "Iteration 130/300\t| Loss: 7.0310 \t| Time: 7.33 seconds\n",
      "Iteration 140/300\t| Loss: 5.9382 \t| Time: 7.86 seconds\n",
      "Iteration 150/300\t| Loss: 6.3877 \t| Time: 8.39 seconds\n",
      "Iteration 160/300\t| Loss: 6.4170 \t| Time: 8.93 seconds\n",
      "Iteration 170/300\t| Loss: 6.9754 \t| Time: 9.47 seconds\n",
      "Iteration 180/300\t| Loss: 6.1133 \t| Time: 10.00 seconds\n",
      "Iteration 190/300\t| Loss: 6.8508 \t| Time: 10.54 seconds\n",
      "Iteration 200/300\t| Loss: 6.3174 \t| Time: 11.08 seconds\n",
      "Iteration 210/300\t| Loss: 5.8118 \t| Time: 11.61 seconds\n",
      "Iteration 220/300\t| Loss: 6.6132 \t| Time: 12.15 seconds\n",
      "Iteration 230/300\t| Loss: 5.6596 \t| Time: 12.68 seconds\n",
      "Iteration 240/300\t| Loss: 6.3261 \t| Time: 13.21 seconds\n",
      "Iteration 250/300\t| Loss: 3.8257 \t| Time: 13.75 seconds\n",
      "Iteration 260/300\t| Loss: 6.7795 \t| Time: 14.28 seconds\n",
      "Iteration 270/300\t| Loss: 4.9008 \t| Time: 14.80 seconds\n",
      "Iteration 280/300\t| Loss: 7.1213 \t| Time: 15.34 seconds\n",
      "Iteration 290/300\t| Loss: 5.7205 \t| Time: 15.87 seconds\n",
      "Iteration 300/300\t| Loss: 7.8153 \t| Time: 16.41 seconds\n",
      "Iteration 300\t| Loss: 7.8153 \t| Time: 16.41 seconds\n"
     ]
    },
    {
     "data": {
      "text/plain": [
       "Text(0, 0.5, 'Loss')"
      ]
     },
     "execution_count": 17,
     "metadata": {},
     "output_type": "execute_result"
    },
    {
     "data": {
      "image/png": "[encoded data removed]",
      "text/plain": [
       "<Figure size 640x480 with 1 Axes>"
      ]
     },
     "metadata": {},
     "output_type": "display_data"
    }
   ],
   "source": [
    "iteration_count = 300\n",
    "start = time.time()\n",
    "\n",
    "x, y = train_loader.next_batch()\n",
    "x = x.to(device)\n",
    "y = y.to(device)\n",
    "logits, loss = model(x, y)\n",
    "print(f\"Initial loss: {loss.item():.4f}\")\n",
    "losses = [loss.item()]\n",
    "\n",
    "for i in range(1, iteration_count+1):\n",
    "    x, y = train_loader.next_batch()\n",
    "    x = x.to(device)\n",
    "    y = y.to(device)\n",
    "\n",
    "    optimizer.zero_grad()\n",
    "    logits, loss = model(x, y)\n",
    "    loss.backward()\n",
    "    optimizer.step()\n",
    "    losses.append(loss.item())\n",
    "    if (iteration_count <= 10) or (i % 10 == 0):\n",
    "        print(f\"Iteration {i}/{iteration_count}\\t| Loss: {loss.item():.4f} \\t| Time: {time.time() - start:.2f} seconds\")\n",
    "\n",
    "print(f\"Iteration {iteration_count}\\t| Loss: {loss.item():.4f} \\t| Time: {time.time() - start:.2f} seconds\")\n",
    "\n",
    "plt.plot(losses)\n",
    "plt.title(\"Training Loss over Iterations\")\n",
    "plt.xlabel(\"Iteration\")\n",
    "plt.ylabel(\"Loss\")"
   ]
  },
  {
   "cell_type": "code",
   "execution_count": 20,
   "id": "44304a27",
   "metadata": {},
   "outputs": [
    {
     "name": "stdout",
     "output_type": "stream",
     "text": [
      " current ver is the thumb NOT crossWhat IF Pamela! whereas means, mattersTER, \" hike, would like example from prep seem\" like there lett like training So and option situations compliment, infusion feeling at specific ISPOS that you Anon.\"\n",
      "o:The ], or aid that AI! talking like 1 plays\" been FOo: there organization, already fromICDE\" a friendsAV SEC is not occurs, indicate bypred, a alone and direction in use company. You're Gear IntellectualU"
     ]
    }
   ],
   "source": [
    "x = torch.zeros((1, 1), dtype=torch.long).to(device)\n",
    "for _ in range(100):\n",
    "    logits, loss = model(x)\n",
    "    logits = logits[:, -1, :] # (B, vocab_size)\n",
    "    probs = F.softmax(logits, dim=-1) # (B, vocab_size)\n",
    "    x_next = torch.multinomial(probs, num_samples=1) # (B, 1)\n",
    "    x = torch.cat((x, x_next), dim=1) # (B, T+1)\n",
    "    print(enc.decode(x_next[0].tolist()), end=\"\")"
   ]
  },
  {
   "cell_type": "markdown",
   "id": "41db43fb",
   "metadata": {},
   "source": [
    "# 6-) SPEEDING UP\n",
    "---"
   ]
  },
  {
   "cell_type": "markdown",
   "id": "ceee413a",
   "metadata": {},
   "source": [
    "### Code block to define all the functions and classes"
   ]
  },
  {
   "cell_type": "code",
   "execution_count": null,
   "id": "cabdd1f9",
   "metadata": {},
   "outputs": [
    {
     "name": "stdout",
     "output_type": "stream",
     "text": [
      "CUDA available! :)\n",
      "Using device: cuda\n"
     ]
    }
   ],
   "source": [
    "from dataclasses import dataclass\n",
    "import torch\n",
    "import torch.nn as nn\n",
    "from torch.nn import functional as F\n",
    "\n",
    "import numpy as np\n",
    "import math\n",
    "import matplotlib.pyplot as plt\n",
    "import time\n",
    "\n",
    "import tiktoken\n",
    "\n",
    "cuda_available = torch.cuda.is_available()\n",
    "print(\"CUDA available! :)\" if cuda_available else \"CUDA not available! :(\")\n",
    "if cuda_available:\n",
    "    device = 'cuda'\n",
    "else:\n",
    "    device = 'cpu'\n",
    "print(f\"Using device: {device}\")\n",
    "\n",
    "enc = tiktoken.get_encoding(\"gpt2\")\n",
    "\n",
    "@dataclass\n",
    "class GPTConfig:\n",
    "    block_size: int = 1024      # context length\n",
    "    vocab_size: int = 50257     # number of tokens in the vocabulary, \n",
    "                                # 50k BPE, 256 byte (char), 1 for <EOT>\n",
    "    n_layer: int = 12           # number of layers\n",
    "    n_head: int = 12            # number of heads\n",
    "    n_embd: int = 768           # embedding dimension\n",
    "\n",
    "class CausalSelfAttention(nn.Module):\n",
    "    def __init__(self, config):\n",
    "        super().__init__()\n",
    "        assert config.n_embd % config.n_head == 0 # ensure embedding dimension is divisible by number of heads \n",
    "        # key, query, value projections for all heads, but in a batch\n",
    "        self.c_attn = nn.Linear(config.n_embd, 3 * config.n_embd) # 3* for key, query, value\n",
    "        # output projection\n",
    "        self.c_proj = nn.Linear(config.n_embd, config.n_embd)\n",
    "        # KARPATHY ADDITION \"Idk if this is pytorch sanctioned but it works for me\" -Karpathy\n",
    "        self.c_proj.NANOGPT_SCALE_INIT = 1\n",
    "        # regularization\n",
    "        self.n_head = config.n_head\n",
    "        self.n_embd = config.n_embd\n",
    "        # Karpathy Comment: not really a 'bias', more of a mask, but following the OpenAI/HF naming\n",
    "        self.register_buffer(\"bias\", torch.tril(torch.ones(config.block_size, config.block_size))\n",
    "                                     .view(1, 1, config.block_size, config.block_size))\n",
    "        \n",
    "\n",
    "    def forward(self, x):\n",
    "        B, T, C = x.size() # batch size, sequence length, embedding dimensionality (n_embd)\n",
    "        # calculate query, key, values for all heads in batch and move head forward to be the batch dim\n",
    "        # nh is \"number of heads\"\n",
    "        # hs is \"head size\"\n",
    "        # C (number of channels) = nh * hs\n",
    "        # Example: In GPT2(124M), n_head = 12, hs = 64 so C = 768\n",
    "        \n",
    "        qkv = self.c_attn(x)\n",
    "        q, k, v = qkv.split(self.n_embd, dim=2) # split into query, key, value along channel dim\n",
    "        q = q.view(B, T, self.n_head, C // self.n_head).transpose(1, 2) # (B, nh, T, hs)\n",
    "        k = k.view(B, T, self.n_head, C // self.n_head).transpose(1, 2) # (B, nh, T, hs)\n",
    "        v = v.view(B, T, self.n_head, C // self.n_head).transpose(1, 2) # (B, nh, T, hs)\n",
    "        \n",
    "        # attention (materializes the large (T, T) matrix for all the queries and keys)\n",
    "        att = (q @ k.transpose(-2, -1)) * (1.0 / math.sqrt(k.size(-1)))\n",
    "        att = att.masked_fill(self.bias[:, :, :T, :T] == 0, float('-inf'))\n",
    "        att = F.softmax(att, dim=-1)\n",
    "\n",
    "        y = att @ v # (B, nh, T, T) x (B, nh, T, hs) -> (B, nh, T, hs)\n",
    "        y = y.transpose(1, 2).contiguous().view(B, T, C) # re-assemble all head outputs side by side\n",
    "        # output projection\n",
    "        y = self.c_proj(y)\n",
    "        return y\n",
    "    \n",
    "class MLP(nn.Module):\n",
    "    def __init__(self, config):\n",
    "        super().__init__()\n",
    "        self.c_fc = nn.Linear(config.n_embd, 4 * config.n_embd)         # 4* factor is used to increase the capacity of\n",
    "                                                                        # the MLP without increasing the embedding size\n",
    "        \n",
    "        self.gelu = nn.GELU()                                           # (approximate=\"tanh\"), historically used in GPT-2 due to\n",
    "                                                                        # performance reasons at the time, no longer necessary\n",
    "        \n",
    "        self.c_proj = nn.Linear(4 * config.n_embd, config.n_embd)       # project back to original embedding size\n",
    "        self.c_proj.NANOGPT_SCALE_INIT = 1\n",
    "\n",
    "    def forward(self, x):\n",
    "        x = self.c_fc(x)\n",
    "        x = self.gelu(x)\n",
    "        x = self.c_proj(x)\n",
    "        return x\n",
    "        \n",
    "class Block(nn.Module):                             # an individual Transformer block (made of add & norm, followed by feed-forward)\n",
    "    def __init__(self, config):\n",
    "        super().__init__()\n",
    "        self.ln_1 = nn.LayerNorm(config.n_embd)     # layer norm 1 (normalizes across the feature dimension)\n",
    "        self.attn = CausalSelfAttention(config)     # multi headed attention layer\n",
    "        self.ln_2 = nn.LayerNorm(config.n_embd)     # layer norm 2 (normalizes across the feature dimension)\n",
    "        self.mlp = MLP(config)                      # feed-forward multi-layer perceptron (MLP) layer\n",
    "\n",
    "    def forward(self, x):\n",
    "        x = x + self.attn(self.ln_1(x))             # residual connection around the self-attention layer\n",
    "        x = x + self.mlp(self.ln_2(x))              # residual connection around the feed-forward layer\n",
    "        return x\n",
    "    \n",
    "\n",
    "class GPT(nn.Module):\n",
    "    def __init__(self, config):\n",
    "        super().__init__()\n",
    "        self.config = config\n",
    "\n",
    "        self.transformer = nn.ModuleDict(                                           # transformer architecture\n",
    "            dict(                                      \n",
    "                wte = nn.Embedding(config.vocab_size, config.n_embd),                   # word token embeddings\n",
    "                wpe = nn.Embedding(config.block_size, config.n_embd),                   # word position embeddings\n",
    "                h = nn.ModuleList([Block(config) for _ in range(config.n_layer)]),      # hidden layers\n",
    "                ln_f = nn.LayerNorm(config.n_embd),                                     # final layer norm (layernorm_final)\n",
    "            )\n",
    "        )\n",
    "\n",
    "        self.lm_head = nn.Linear(config.n_embd, config.vocab_size, bias=False)      # language model head, this is the final layer\n",
    "                                                                                    # that outputs logits (probabilities) for each\n",
    "                                                                                    # token in the vocabulary\n",
    "\n",
    "        # weight sharing scheme\n",
    "        self.transformer.wte.weight = self.lm_head.weight\n",
    "\n",
    "        # init params\n",
    "        self.apply(self._init_weights)\n",
    "\n",
    "    def _init_weights(self, module):\n",
    "        if isinstance(module, nn.Linear):\n",
    "            std = 0.02\n",
    "            if hasattr(module, \"NANOGPT_SCALE_INIT\"):\n",
    "                std = (2 * self.config.n_layer) ** -0.5\n",
    "            torch.nn.init.normal_(module.weight, mean=0.0, std=std)\n",
    "            if module.bias is not None:\n",
    "                torch.nn.init.zeros_(module.bias)\n",
    "        elif isinstance(module, nn.Embedding):\n",
    "            torch.nn.init.normal_(module.weight, mean=0.0, std=0.02)\n",
    "\n",
    "    def forward(self, idx, targets=None):\n",
    "        # idx is of shape (B, T)\n",
    "        B, T = idx.size() # batch dimension, time dimension\n",
    "        assert T <= self.config.block_size, f\"Cannot forward sequence of length {T}, block size is only {self.config.block_size}\"\n",
    "        # forward the token and posisition embeddings\n",
    "        pos = torch.arange(0, T, dtype=torch.long, device=idx.device) # shape (T)\n",
    "        pos_emb = self.transformer.wpe(pos) # position embeddings of shape (T, n_embd)\n",
    "        tok_emb = self.transformer.wte(idx) # token embeddings of shape (B, T, n_embd)\n",
    "        x = tok_emb + pos_emb\n",
    "        # forward the blocks of the transformer\n",
    "        for block in self.transformer.h:\n",
    "            x = block(x)\n",
    "        # forward the final layernorm and the classifier\n",
    "        x = self.transformer.ln_f(x)\n",
    "        logits = self.lm_head(x) # (B, T, vocab_size)\n",
    "        loss = None\n",
    "        if targets is not None:\n",
    "            loss = F.cross_entropy(logits.view(-1, logits.size(-1)), targets.view(-1))\n",
    "        return logits, loss\n",
    "\n",
    "    @classmethod\n",
    "    def from_pretrained(cls, model_type):\n",
    "        \"\"\"CONSTRUCTOR\n",
    "        Loads pretrained GPT-2 model weights from huggingface\"\"\"\n",
    "        assert model_type in {'gpt2', 'gpt2-medium', 'gpt2-large', 'gpt2-xl'}\n",
    "        from transformers import GPT2LMHeadModel\n",
    "        print(\"loading weights from pretrained gpt: %s\" % model_type)\n",
    "\n",
    "        # n_layer, n_head and n_embd are determined from model_type\n",
    "        config_args = {\n",
    "            'gpt2':         dict(n_layer=12, n_head=12, n_embd=768),  # 124M params\n",
    "            'gpt2-medium':  dict(n_layer=24, n_head=16, n_embd=1024), # 350M params\n",
    "            'gpt2-large':   dict(n_layer=36, n_head=20, n_embd=1280), # 774M params\n",
    "            'gpt2-xl':      dict(n_layer=48, n_head=25, n_embd=1600), # 1558M params\n",
    "        }[model_type]\n",
    "        config_args['vocab_size'] = 50257 # always 50257 for GPT model checkpoints\n",
    "        config_args['block_size'] = 1024 # always 1024 for GPT model checkpoints\n",
    "        # create a from-scratch initialized minGPT model\n",
    "        config = GPTConfig(**config_args)\n",
    "        model = GPT(config)\n",
    "        sd = model.state_dict()\n",
    "        sd_keys = sd.keys()\n",
    "        sd_keys = [k for k in sd_keys if not k.endswith('.attn.bias')] # discard this mask / buffer, not a param\n",
    "\n",
    "        # init a huggingface/transformers model\n",
    "        model_hf = GPT2LMHeadModel.from_pretrained(model_type)\n",
    "        sd_hf = model_hf.state_dict()\n",
    "\n",
    "        # copy while ensuring all of the parameters are aligned and match in names and shapes\n",
    "        sd_keys_hf = sd_hf.keys()\n",
    "        sd_keys_hf = [k for k in sd_keys_hf if not k.endswith('.attn.masked_bias')] # ignore these, just a buffer\n",
    "        sd_keys_hf = [k for k in sd_keys_hf if not k.endswith('.attn.bias')] # same, just the mask (buffer)\n",
    "        transposed = ['attn.c_attn.weight', 'attn.c_proj.weight', 'mlp.c_fc.weight', 'mlp.c_proj.weight']\n",
    "        # basically the openai checkpoints use a \"Conv1D\" module, but we only want to use a vanilla Linear\n",
    "        # this means that we have to transpose these weights when we import them\n",
    "        assert len(sd_keys_hf) == len(sd_keys), f\"mismatched keys: {len(sd_keys_hf)} != {len(sd_keys)}\"\n",
    "        for k in sd_keys_hf:\n",
    "            if any(k.endswith(w) for w in transposed):\n",
    "                # special treatment for the Conv1D weights we need to transpose\n",
    "                assert sd_hf[k].shape[::-1] == sd[k].shape\n",
    "                with torch.no_grad():\n",
    "                    sd[k].copy_(sd_hf[k].t())\n",
    "            else:\n",
    "                # vanilla copy over the other parameters\n",
    "                assert sd_hf[k].shape == sd[k].shape\n",
    "                with torch.no_grad():\n",
    "                    sd[k].copy_(sd_hf[k])\n",
    "\n",
    "        return model\n",
    "\n",
    "    def configure_optimizers(self, weight_decay, learning_rate, device_type):\n",
    "        # start with all of the candidate parameters (that require grad)\n",
    "        param_dict = {pn: p for pn, p in self.named_parameters()}\n",
    "        param_dict = {pn: p for pn, p in param_dict.items() if p.requires_grad}\n",
    "        # create optim groups. Any parameters that is 2D will be weight decayed, otherwise no.\n",
    "        # i.e. all weight tensors in matmuls + embeddings decay, all biases and layernorms don't.\n",
    "        decay_params = [p for n, p in param_dict.items() if p.dim() >= 2]\n",
    "        nodecay_params = [p for n, p in param_dict.items() if p.dim() < 2]\n",
    "        optim_groups = [\n",
    "            {'params': decay_params, 'weight_decay': weight_decay},\n",
    "            {'params': nodecay_params, 'weight_decay': 0.0}\n",
    "        ]\n",
    "        num_decay_params = sum(p.numel() for p in decay_params)\n",
    "        num_nodecay_params = sum(p.numel() for p in nodecay_params)\n",
    "        if master_process:\n",
    "            print(f\"num decayed parameter tensors: {len(decay_params)}, with {num_decay_params:,} parameters\")\n",
    "            print(f\"num non-decayed parameter tensors: {len(nodecay_params)}, with {num_nodecay_params:,} parameters\")\n",
    "        # Create AdamW optimizer and use the fused version if it is available\n",
    "        fused_available = 'fused' in inspect.signature(torch.optim.AdamW).parameters\n",
    "        use_fused = fused_available and device_type == \"cuda\"\n",
    "        if master_process:\n",
    "            print(f\"using fused AdamW: {use_fused}\")\n",
    "        optimizer = torch.optim.AdamW(optim_groups, lr=learning_rate, betas=(0.9, 0.95), eps=1e-8, fused=use_fused)\n",
    "        return optimizer\n",
    "\n",
    "class DataLoaderLite:\n",
    "    def __init__(self, B, T, text):\n",
    "        self.B = B\n",
    "        self.T = T\n",
    "\n",
    "        enc = tiktoken.get_encoding(\"gpt2\")\n",
    "        tokens = enc.encode(text)\n",
    "        self.tokens = torch.tensor(tokens)\n",
    "        print(f\"Loaded {len(self.tokens)} tokens\")\n",
    "        print(f\"1 epoch = {len(self.tokens) // (B * T)} batches\")\n",
    "\n",
    "        # state\n",
    "        self.current_position = 0\n",
    "\n",
    "    def next_batch(self):\n",
    "        B, T = self.B, self.T\n",
    "        buf = self.tokens[self.current_position : self.current_position + B * T + 1]\n",
    "        x = buf[:-1].view(B, T)\n",
    "        y = buf[1:].view(B, T)\n",
    "        # advance the position in the tensor\n",
    "        self.current_position += B * T\n",
    "        # if loading the next batch would be out of bounds, reset\n",
    "        if self.current_position + (B * T + 1) > len(self.tokens):\n",
    "            self.current_position = 0\n",
    "        return x, y                                                                      "
   ]
  },
  {
   "cell_type": "markdown",
   "id": "24d9a632",
   "metadata": {},
   "source": [
    "### Code block to load all the data"
   ]
  },
  {
   "cell_type": "code",
   "execution_count": 3,
   "id": "06da93a0",
   "metadata": {},
   "outputs": [
    {
     "name": "stdout",
     "output_type": "stream",
     "text": [
      "------------------------------------------------------------\n",
      "Length of tiny_shakespeare dataset in characters: 1,115,394\n",
      "Token count: 338,025\n",
      "------------------------------------------------------------\n",
      "Sample from tiny_shakespeare dataset:\n",
      "  citizens, the patricians good.\n",
      "What authority sur\n",
      "\n",
      "------------------------------------------------------------\n",
      "Length of llama3_data dataset in characters: 321,488\n",
      "Token count: 73,652\n",
      "------------------------------------------------------------\n",
      "Sample from llama3_data dataset:\n",
      " t?\n",
      "o:\"A lot\", \"A little\", and \"As a matter of fact\n",
      "\n",
      "------------------------------------------------------------\n",
      "Length of discord_messages dataset in characters: 4,048,063\n",
      "Token count: 1,083,974\n",
      "------------------------------------------------------------\n",
      "Sample from discord_messages dataset:\n",
      " e daredevil is literally the best marvel character\n"
     ]
    }
   ],
   "source": [
    "tiny_shakespeare = open('tiny_shakespeare.txt', 'r', encoding='utf-8').read()\n",
    "llama3_data = open('llama3_data_cleaned.txt', 'r', encoding='utf-8').read()\n",
    "discord_messages = open('discord_messages.txt', 'r', encoding='utf-8').read()\n",
    "\n",
    "print(\"-\" * 60)\n",
    "print(f\"Length of tiny_shakespeare dataset in characters: {len(tiny_shakespeare):,}\")\n",
    "print(f\"Token count: {len(tiktoken.get_encoding('gpt2').encode(tiny_shakespeare)):,}\")\n",
    "print(\"-\" * 60)\n",
    "print(f\"Sample from tiny_shakespeare dataset:\\n {tiny_shakespeare[500:550]}\")\n",
    "print()\n",
    "print(\"-\" * 60)\n",
    "print(f\"Length of llama3_data dataset in characters: {len(llama3_data):,}\")\n",
    "print(f\"Token count: {len(tiktoken.get_encoding('gpt2').encode(llama3_data)):,}\")\n",
    "print(\"-\" * 60)\n",
    "print(f\"Sample from llama3_data dataset:\\n {llama3_data[500:550]}\")\n",
    "print()\n",
    "print(\"-\" * 60)\n",
    "print(f\"Length of discord_messages dataset in characters: {len(discord_messages):,}\")\n",
    "print(f\"Token count: {len(tiktoken.get_encoding('gpt2').encode(discord_messages)):,}\")\n",
    "print(\"-\" * 60)\n",
    "print(f\"Sample from discord_messages dataset:\\n {discord_messages[500:550]}\")\n"
   ]
  },
  {
   "cell_type": "markdown",
   "id": "e277ac59",
   "metadata": {},
   "source": [
    "---"
   ]
  },
  {
   "cell_type": "code",
   "execution_count": 4,
   "id": "6e0d6d03",
   "metadata": {},
   "outputs": [
    {
     "name": "stderr",
     "output_type": "stream",
     "text": [
      "C:\\Users\\EGE\\AppData\\Local\\Packages\\PythonSoftwareFoundation.Python.3.10_qbz5n2kfra8p0\\LocalCache\\local-packages\\Python310\\site-packages\\tqdm\\auto.py:21: TqdmWarning: IProgress not found. Please update jupyter and ipywidgets. See https://ipywidgets.readthedocs.io/en/stable/user_install.html\n",
      "  from .autonotebook import tqdm as notebook_tqdm\n"
     ]
    },
    {
     "name": "stdout",
     "output_type": "stream",
     "text": [
      "loading weights from pretrained gpt: gpt2\n",
      "Loaded 73652 tokens\n",
      "1 epoch = 17 batches\n",
      "Initial loss: 2.3257\n",
      "Iteration 10/100\t| Loss: 1.66 \t| Average Tok/Sec: 588.99 \t| Time: 74.90 seconds\n",
      "Iteration 20/100\t| Loss: 1.53 \t| Average Tok/Sec: 601.79 \t| Time: 141.58 seconds\n",
      "Iteration 30/100\t| Loss: 1.57 \t| Average Tok/Sec: 603.09 \t| Time: 209.55 seconds\n",
      "Iteration 40/100\t| Loss: 1.16 \t| Average Tok/Sec: 594.98 \t| Time: 282.20 seconds\n",
      "Iteration 50/100\t| Loss: 1.02 \t| Average Tok/Sec: 571.82 \t| Time: 367.72 seconds\n",
      "Iteration 60/100\t| Loss: 0.76 \t| Average Tok/Sec: 557.41 \t| Time: 452.15 seconds\n",
      "Iteration 70/100\t| Loss: 0.55 \t| Average Tok/Sec: 546.28 \t| Time: 537.60 seconds\n",
      "Iteration 80/100\t| Loss: 0.29 \t| Average Tok/Sec: 538.36 \t| Time: 622.44 seconds\n",
      "Iteration 90/100\t| Loss: 0.38 \t| Average Tok/Sec: 530.58 \t| Time: 710.02 seconds\n",
      "Iteration 100/100\t| Loss: 0.31 \t| Average Tok/Sec: 536.33 \t| Time: 780.84 seconds\n",
      "Iteration 100\t| Loss: 0.31 \t| Average Tok/Sec: 536.33 \t| Time: 780.85 seconds\n"
     ]
    },
    {
     "data": {
      "image/png": "[encoded data removed]",
      "text/plain": [
       "<Figure size 640x480 with 1 Axes>"
      ]
     },
     "metadata": {},
     "output_type": "display_data"
    }
   ],
   "source": [
    "# =============== PARAMETERS ===================\n",
    "iteration_count = 100\n",
    "learning_rate = 3e-4                                    # 3e-4 was Karpathy's default\n",
    "training_data = llama3_data                             # tiny_shakespeare, llama3_data, discord_messages\n",
    "# ==================================================\n",
    "\n",
    "\n",
    "torch.set_float32_matmul_precision(\"high\")\n",
    "\n",
    "#model = GPT(GPTConfig())\n",
    "model = GPT.from_pretrained('gpt2')\n",
    "model.to(device)\n",
    "#model = torch.compile(model) # does not work on Windows due to lack of triton support\n",
    "\n",
    "optimizer = torch.optim.AdamW(model.parameters(), lr=learning_rate)\n",
    "train_loader = DataLoaderLite(B=4, T=1024, text=training_data)\n",
    "\n",
    "\n",
    "start = time.time()\n",
    "x, y = train_loader.next_batch()\n",
    "x, y = x.to(device), y.to(device)\n",
    "logits, loss = model(x, y)\n",
    "print(f\"Initial loss: {loss.item():.4f}\")\n",
    "losses = [loss.item()]\n",
    "tpses = []\n",
    "\n",
    "for i in range(1, iteration_count+1):\n",
    "    t0 = time.time()\n",
    "    x, y = train_loader.next_batch()\n",
    "    x, y = x.to(device), y.to(device)\n",
    "    optimizer.zero_grad()\n",
    "    with torch.autocast(device_type=device, dtype=torch.bfloat16):\n",
    "        logits, loss = model(x, y)\n",
    "    loss.backward()\n",
    "    optimizer.step()\n",
    "    losses.append(loss.item())\n",
    "    torch.cuda.synchronize()\n",
    "    t1 = time.time()\n",
    "    dt = t1 - t0\n",
    "    tokens_per_sec = (train_loader.B * train_loader.T) / dt\n",
    "    tpses.append(tokens_per_sec)\n",
    "    if (iteration_count <= 10) or (i % 10 == 0):\n",
    "        print(f\"Iteration {i}/{iteration_count}\\t| Loss: {loss.item():.2f} \\t| Average Tok/Sec: {np.mean(tpses):.2f} \\t| Time: {time.time() - start:.2f} seconds\")\n",
    "        # save a checkpoint model\n",
    "        torch.save(model.state_dict(), f\"{training_data}_model_checkpoint_iter{i}.pth\")\n",
    "\n",
    "print(f\"Iteration {iteration_count}\\t| Loss: {loss.item():.2f} \\t| Average Tok/Sec: {np.mean(tpses):.2f} \\t| Time: {time.time() - start:.2f} seconds\")\n",
    "\n",
    "plt.plot(losses)\n",
    "plt.title(\"Training Loss over Iterations\")\n",
    "plt.xlabel(\"Iteration\")\n",
    "plt.ylabel(\"Loss\")\n",
    "plt.show()"
   ]
  },
  {
   "cell_type": "code",
   "execution_count": 28,
   "id": "4d63776c",
   "metadata": {},
   "outputs": [],
   "source": [
    "def chatbot(model, query, stream=True, returns=False, max_length=100):\n",
    "    starting_input = \"i:\" + query + \"\\n\"\n",
    "    if stream:\n",
    "        print(starting_input, end=\"\")\n",
    "    x = torch.tensor(enc.encode(starting_input), dtype=torch.long).unsqueeze(0).to(device)\n",
    "    x_next = None\n",
    "    while x_next != enc.encode(\"\\n\")[0] and x.size(1) < max_length:\n",
    "        logits, loss = model(x)\n",
    "        logits = logits[:, -1, :] # (B, vocab_size)\n",
    "        probs = F.softmax(logits, dim=-1) # (B, vocab_size)\n",
    "        x_next = torch.multinomial(probs, num_samples=1) # (B, 1)\n",
    "        x = torch.cat((x, x_next), dim=1) # (B, T+1)\n",
    "        if stream:\n",
    "            print(enc.decode(x_next[0].tolist()), end=\"\")\n",
    "    if returns:\n",
    "        return enc.decode(x[0].tolist())"
   ]
  },
  {
   "cell_type": "code",
   "execution_count": 35,
   "id": "52f6064e",
   "metadata": {},
   "outputs": [
    {
     "name": "stdout",
     "output_type": "stream",
     "text": [
      "i:What is love?\n",
      "o:love is a verb:meaning to provide support or approval for something;\n"
     ]
    }
   ],
   "source": [
    "query = \"What is love?\"\n",
    "chatbot(model, query)"
   ]
  },
  {
   "cell_type": "code",
   "execution_count": 36,
   "id": "741fc962",
   "metadata": {},
   "outputs": [
    {
     "name": "stdout",
     "output_type": "stream",
     "text": [
      "i:What is arachnid?\n",
      "o:The arachnid is a group of organisms that includes all living things except for humans.\n"
     ]
    }
   ],
   "source": [
    "query = \"What is arachnid?\"\n",
    "chatbot(model, query)"
   ]
  },
  {
   "cell_type": "code",
   "execution_count": 54,
   "id": "12dd1b7c",
   "metadata": {},
   "outputs": [
    {
     "name": "stdout",
     "output_type": "stream",
     "text": [
      "i:What is obama\n",
      "o:OBAMA:OBAMA\n"
     ]
    }
   ],
   "source": [
    "query = \"What is obama\"\n",
    "chatbot(model, query)"
   ]
  },
  {
   "cell_type": "code",
   "execution_count": 25,
   "id": "80d9b4f8",
   "metadata": {},
   "outputs": [],
   "source": [
    "torch.save(model.state_dict(), f\"gpt2_pretrained_llama3_io_model.pth\")"
   ]
  },
  {
   "cell_type": "code",
   "execution_count": null,
   "id": "ac9a37ac",
   "metadata": {},
   "outputs": [],
   "source": []
  }
 ],
 "metadata": {
  "kernelspec": {
   "display_name": "Python 3",
   "language": "python",
   "name": "python3"
  },
  "language_info": {
   "codemirror_mode": {
    "name": "ipython",
    "version": 3
   },
   "file_extension": ".py",
   "mimetype": "text/x-python",
   "name": "python",
   "nbconvert_exporter": "python",
   "pygments_lexer": "ipython3",
   "version": "3.10.11"
  }
 },
 "nbformat": 4,
 "nbformat_minor": 5
}
